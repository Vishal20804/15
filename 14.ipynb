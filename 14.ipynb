{
 "cells": [
  {
   "cell_type": "code",
   "execution_count": null,
   "id": "e16c9d2f-162d-401f-a4e9-c703b20fd3d6",
   "metadata": {},
   "outputs": [],
   "source": [
    "#ans:1=\n",
    "Multithreading in Python is a programming technique that allows multiple threads (smaller units of a program) to run concurrently within a single program. Each thread executes independently and can perform different tasks simultaneously, which can significantly improve the program's overall performance and responsiveness.\n",
    "In Python, the module used to handle threads is called threading"
   ]
  },
  {
   "cell_type": "code",
   "execution_count": null,
   "id": "c438c5bc-0f1f-47d0-83d5-dcc9590b6fc2",
   "metadata": {},
   "outputs": [],
   "source": [
    "#an:2=\n",
    "The threading module is used in Python to create and manage threads in a program. It provides a way to write concurrent code that runs in parallel and performs multiple tasks at the same time. This can improve the overall performance and responsiveness of a program, especially for tasks that involve input/output operations or other types of blocking operations.\n",
    "The threading module is used in Python to create and manage threads in a program. It provides a way to write concurrent code that runs in parallel and performs multiple tasks at the same time. This can improve the overall performance and responsiveness of a program, especially for tasks that involve input/output operations or other types of blocking operations."
   ]
  },
  {
   "cell_type": "code",
   "execution_count": null,
   "id": "5ec1f1c8-cae6-4935-bde4-b0fe8c986a56",
   "metadata": {},
   "outputs": [],
   "source": [
    "#ans:4=\n",
    "import threading\n",
    "\n",
    "def print_squares():\n",
    "    for i in range(1, 11):\n",
    "        print(f\"{i} squared is {i**2}\")\n",
    "\n",
    "def print_cubes():\n",
    "    for i in range(1, 11):\n",
    "        print(f\"{i} cubed is {i**3}\")\n",
    "\n",
    "# create the first thread to print squares\n",
    "t1 = threading.Thread(target=print_squares)\n",
    "\n",
    "# create the second thread to print cubes\n",
    "t2 = threading.Thread(target=print_cubes)\n",
    "\n",
    "# start both threads\n",
    "t1.start()\n",
    "t2.start()\n",
    "\n",
    "# wait for both threads to finish\n",
    "t1.join()\n",
    "t2.join()\n",
    "\n",
    "# main thread exits here\n"
   ]
  },
  {
   "cell_type": "code",
   "execution_count": null,
   "id": "c8a8accd-b1a9-44dd-a178-9f6ba0efe13c",
   "metadata": {},
   "outputs": [],
   "source": [
    "#ans:5=\n",
    "Advantages of multithreading:\n",
    "\n",
    "Improved performance: Multithreading can significantly improve the performance of a program by allowing it to perform multiple tasks simultaneously, thus making better use of the available hardware resources.\n",
    "\n",
    "Responsiveness: Multithreading can improve the responsiveness of a program, especially in user interfaces or other real-time applications, by allowing the program to perform background tasks without blocking the main thread.\n",
    "\n",
    "Resource sharing: Multithreading can allow multiple threads to share resources, such as memory or data structures, without the need for complex synchronization mechanisms.\n",
    "\n",
    "Modularity: Multithreading can make it easier to write modular, reusable code by separating different parts of the program into separate threads.\n",
    "\n",
    "Disadvantages of multithreading:\n",
    "\n",
    "Complexity: Multithreading can add complexity to a program, especially when dealing with shared resources, synchronization, and thread safety.\n",
    "\n",
    "Debugging: Multithreaded programs can be harder to debug and test than single-threaded programs, as they can exhibit non-deterministic behavior and race conditions.\n",
    "\n",
    "Overhead: Multithreading can introduce overhead and additional CPU and memory usage, as well as potential synchronization overhead when dealing with shared resources.\n",
    "\n",
    "Scalability: Multithreading can improve performance up to a certain point, after which adding more threads may actually decrease performance due to increased overhead and contention for resources."
   ]
  },
  {
   "cell_type": "code",
   "execution_count": null,
   "id": "118ee3cc-86c8-4402-af09-9d259a737077",
   "metadata": {},
   "outputs": [],
   "source": [
    "#ans:6\n",
    "A deadlock occurs when two or more threads are blocked, waiting for each other to release resources that they hold. This can happen when two or more threads each hold a resource that the other thread needs in order to proceed, and neither thread can make progress until the other releases its resource. Deadlocks can cause a program to become unresponsive and can be difficult to diagnose and fix.\n",
    "A race condition occurs when two or more threads access a shared resource in a way that can produce inconsistent or incorrect results. This can happen when multiple threads read or write to the same memory location or data structure without proper synchronization, causing unpredictable behavior. Race conditions can lead to bugs and errors that are difficult to reproduce and fix."
   ]
  },
  {
   "cell_type": "code",
   "execution_count": null,
   "id": "63f60e33-0638-4d91-9b4d-6b040b246d7c",
   "metadata": {},
   "outputs": [],
   "source": []
  }
 ],
 "metadata": {
  "kernelspec": {
   "display_name": "Python 3 (ipykernel)",
   "language": "python",
   "name": "python3"
  },
  "language_info": {
   "codemirror_mode": {
    "name": "ipython",
    "version": 3
   },
   "file_extension": ".py",
   "mimetype": "text/x-python",
   "name": "python",
   "nbconvert_exporter": "python",
   "pygments_lexer": "ipython3",
   "version": "3.10.8"
  }
 },
 "nbformat": 4,
 "nbformat_minor": 5
}
